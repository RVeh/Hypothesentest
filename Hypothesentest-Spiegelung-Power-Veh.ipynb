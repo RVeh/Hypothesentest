{
 "cells": [
  {
   "cell_type": "code",
   "execution_count": 28,
   "id": "3477382b-212a-4b4f-ab0c-cdcbe65758f6",
   "metadata": {},
   "outputs": [
    {
     "data": {
      "application/vnd.jupyter.widget-view+json": {
       "model_id": "91d6d0a73ab2422499501dd7b5ad93a2",
       "version_major": 2,
       "version_minor": 0
      },
      "text/plain": [
       "interactive(children=(IntSlider(value=40, description='n', max=200, min=10, step=10), FloatSlider(value=0.5, d…"
      ]
     },
     "metadata": {},
     "output_type": "display_data"
    },
    {
     "name": "stdout",
     "output_type": "stream",
     "text": [
      "\n"
     ]
    }
   ],
   "source": [
    "import numpy as np\n",
    "import matplotlib.pyplot as plt\n",
    "from scipy.stats import binom\n",
    "import ipywidgets as widgets\n",
    "from ipywidgets import interact\n",
    "\n",
    "def plot_binomial_and_power(n=40, p0=0.5, p1=0.6, alpha=0.05, spiegelung=False):\n",
    "    k = np.arange(0, n + 1)\n",
    "    \n",
    "    # Wahrscheinlichkeitsverteilungen berechnen\n",
    "    binom_probs_p0 = binom.pmf(k, n, p0)\n",
    "    binom_probs_p1 = binom.pmf(k, n, p1)\n",
    "    \n",
    "    # Kritischen Wert bestimmen\n",
    "    cumulative_probs_p0 = 1 - binom.cdf(k - 1, n, p0)\n",
    "    k_min = np.min(k[cumulative_probs_p0 <= alpha])\n",
    "    \n",
    "    # Power-Funktion g(p)\n",
    "    p_values = np.linspace(0, 1, 500)\n",
    "    power_values = [1 - binom.cdf(k_min - 1, n, p) for p in p_values]\n",
    "    \n",
    "    # Kritischen Bereich für den rechtsseitigen Test bestimmen\n",
    "    critical = [i for i in k if i >= k_min]\n",
    "    \n",
    "    fig, (ax1, ax2) = plt.subplots(2, 1, figsize=(8, 8))\n",
    "    \n",
    "    title_str1 = (\n",
    "        fr\"$H_0: p_0={p0}; H_1: p={p1}; (n={n}, \\alpha={alpha}, k_{{\\min}}={k_min})$\"\n",
    "    )\n",
    "    title_str2 = (\n",
    "        fr\"$g(p) = P_p(X \\geq {k_min}); n={n}; k_{{\\min}}={k_min}; p_0={p0}; p_1={p1}$\"\n",
    "    )\n",
    "\n",
    "    # Plot 1: Binomialverteilungen\n",
    "    ax1.bar(k, binom_probs_p0, width=0.5, \n",
    "            color=['tomato' if i in critical else 'skyblue' for i in k], \n",
    "            label=f\"$H_0$: p = {p0}\")\n",
    "    ax1.axhline(y=0, color='black', linewidth=1)  # x-Achse hervorheben\n",
    "    if spiegelung:\n",
    "        ax1.bar(k, -binom_probs_p1, width=0.5, \n",
    "                color=['lightgreen' if i in critical else 'tomato' for i in k], \n",
    "                label=f\"$H_1$: p = {p1} (gespiegelt)\")\n",
    "    else:\n",
    "        ax1.bar(k, binom_probs_p1, width=0.5, \n",
    "                color=['lightgreen' if i in critical else 'tomato' for i in k], \n",
    "                label=f\"$H_1$: p = {p1}\")\n",
    "    \n",
    "    ax1.axvspan(k_min - 0.5, n + 0.5, color='gray', alpha=0.2, label=\"Ablehnungsbereich\")\n",
    "    \n",
    "    ax1.set_xlabel(r\"$k$\")\n",
    "    ax1.set_ylabel(r\"$P(X = k)$\" + (\" (H1 gespiegelt)\" if spiegelung else \"\"))\n",
    "    ax1.set_title(title_str1)\n",
    "    ax1.legend()\n",
    "    ax1.grid(True, linestyle='--', alpha=0.7)\n",
    "    ax1.set_ylim(-max(max(binom_probs_p0), max(binom_probs_p1)) * 1.3,\n",
    "                  max(max(binom_probs_p0), max(binom_probs_p1)) * 1.3)\n",
    "    ax1.set_xlim(-1, n + 1)\n",
    "    \n",
    "    # Plot 2: Power-Funktion g(p)\n",
    "    ax2.plot(p_values, power_values, color='black', linewidth=2, label=r\"$g(p)$\")\n",
    "    ax2.plot([p0, p0], [0, 1], color='gray', linestyle='--')\n",
    "   \n",
    "    # Fehler 2. Art β markieren und in die Mitte setzen\n",
    "    power_val = binom.sf(k_min-1, n, p1)\n",
    "    ax2.scatter([p1], [power_val], color='black', zorder=4)\n",
    "    ax2.text(p1 + 0.01, power_val/2, fr\"$1-\\beta = {power_val:.3f}$\", \n",
    "             verticalalignment='bottom', fontsize=12, color=\"green\")\n",
    "    ax2.text(p1 + 0.01, power_val/2+0.5, fr\"$\\beta = {1-power_val:.3f}$\", \n",
    "             verticalalignment='bottom', fontsize=12, color=\"red\")\n",
    "    \n",
    "    # Power des Tests markieren (1-β)\n",
    "    ax2.plot([p1, p1], [0, power_val], color='green', linestyle='--')\n",
    "    ax2.plot([p1, p1], [power_val,1], color='red', linestyle='--')\n",
    "    \n",
    "    ax2.set_xlabel(r\"$p$\")\n",
    "    ax2.set_ylabel(r\"$P(X \\geq k_{\\min})$\")\n",
    "    ax2.set_title(title_str2)\n",
    "    ax2.legend()\n",
    "    ax2.grid(True, linestyle='--', alpha=0.7)\n",
    "    ax2.set_ylim(0, 1.1)\n",
    "    ax2.set_xlim(0, 1)\n",
    "    \n",
    "    plt.tight_layout()\n",
    "    plt.show()\n",
    "\n",
    "# Interaktive Darstellung mit Slidern und Kontrollschalter für Spiegelung\n",
    "interact(\n",
    "    plot_binomial_and_power,\n",
    "    n=widgets.IntSlider(min=10, max=200, step=10, value=40, description='n'),\n",
    "    #p0=widgets.FloatSlider(min=0.1, max=0.9, step=0.01, value=0.5, description='p₀'),\n",
    "     p0=widgets.FloatSlider(min=0.1, max=0.9, step=0.01, value=0.5, description='p0'),\n",
    "    #p1=widgets.FloatSlider(min=0.1, max=0.9, step=0.01, value=0.6, description='p₁'),\n",
    "    p1=widgets.FloatSlider(min=0.1, max=0.9, step=0.01, value=0.6, description='p1'),\n",
    "    #alpha=widgets.FloatSlider(min=0.01, max=0.2, step=0.01, value=0.05, description='α'),\n",
    "    alpha=widgets.FloatSlider(min=0.01, max=0.2, step=0.01, value=0.05, description='alpha'),\n",
    "    spiegelung=widgets.Checkbox(value=True, description=\"Spiegelung aktivieren\")\n",
    ")\n",
    "print()"
   ]
  },
  {
   "cell_type": "code",
   "execution_count": null,
   "id": "00e8a42b-77c3-4c13-be39-7227d38eb0da",
   "metadata": {},
   "outputs": [],
   "source": []
  }
 ],
 "metadata": {
  "kernelspec": {
   "display_name": "Python 3 (ipykernel)",
   "language": "python",
   "name": "python3"
  },
  "language_info": {
   "codemirror_mode": {
    "name": "ipython",
    "version": 3
   },
   "file_extension": ".py",
   "mimetype": "text/x-python",
   "name": "python",
   "nbconvert_exporter": "python",
   "pygments_lexer": "ipython3",
   "version": "3.9.7"
  }
 },
 "nbformat": 4,
 "nbformat_minor": 5
}
